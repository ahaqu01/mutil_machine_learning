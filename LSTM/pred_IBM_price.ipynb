{
 "cells": [
  {
   "cell_type": "code",
   "execution_count": 56,
   "metadata": {
    "collapsed": true
   },
   "outputs": [],
   "source": [
    "# 导入必要的依赖库\n",
    "import matplotlib.pyplot as plt\n",
    "import numpy as np\n",
    "import pandas as pd\n",
    "import os\n",
    "\n",
    "from sklearn.preprocessing import MinMaxScaler"
   ]
  },
  {
   "cell_type": "code",
   "execution_count": 57,
   "outputs": [
    {
     "name": "stdout",
     "output_type": "stream",
     "text": [
      "/home/zhouyuhua\n"
     ]
    }
   ],
   "source": [
    "current_path = os.path.abspath('.')\n",
    "print(current_path)"
   ],
   "metadata": {
    "collapsed": false,
    "pycharm": {
     "name": "#%%\n"
    }
   }
  },
  {
   "cell_type": "code",
   "execution_count": 58,
   "outputs": [
    {
     "data": {
      "text/plain": "             Open   High    Low  Close    Volume Name\nDate                                                 \n2006-01-03  82.45  82.55  80.81  82.06  11715200  IBM\n2006-01-04  82.20  82.50  81.33  81.95   9840600  IBM\n2006-01-05  81.40  82.90  81.00  82.50   7213500  IBM\n2006-01-06  83.95  85.03  83.41  84.95   8197400  IBM\n2006-01-09  84.10  84.25  83.38  83.73   6858200  IBM",
      "text/html": "<div>\n<style scoped>\n    .dataframe tbody tr th:only-of-type {\n        vertical-align: middle;\n    }\n\n    .dataframe tbody tr th {\n        vertical-align: top;\n    }\n\n    .dataframe thead th {\n        text-align: right;\n    }\n</style>\n<table border=\"1\" class=\"dataframe\">\n  <thead>\n    <tr style=\"text-align: right;\">\n      <th></th>\n      <th>Open</th>\n      <th>High</th>\n      <th>Low</th>\n      <th>Close</th>\n      <th>Volume</th>\n      <th>Name</th>\n    </tr>\n    <tr>\n      <th>Date</th>\n      <th></th>\n      <th></th>\n      <th></th>\n      <th></th>\n      <th></th>\n      <th></th>\n    </tr>\n  </thead>\n  <tbody>\n    <tr>\n      <th>2006-01-03</th>\n      <td>82.45</td>\n      <td>82.55</td>\n      <td>80.81</td>\n      <td>82.06</td>\n      <td>11715200</td>\n      <td>IBM</td>\n    </tr>\n    <tr>\n      <th>2006-01-04</th>\n      <td>82.20</td>\n      <td>82.50</td>\n      <td>81.33</td>\n      <td>81.95</td>\n      <td>9840600</td>\n      <td>IBM</td>\n    </tr>\n    <tr>\n      <th>2006-01-05</th>\n      <td>81.40</td>\n      <td>82.90</td>\n      <td>81.00</td>\n      <td>82.50</td>\n      <td>7213500</td>\n      <td>IBM</td>\n    </tr>\n    <tr>\n      <th>2006-01-06</th>\n      <td>83.95</td>\n      <td>85.03</td>\n      <td>83.41</td>\n      <td>84.95</td>\n      <td>8197400</td>\n      <td>IBM</td>\n    </tr>\n    <tr>\n      <th>2006-01-09</th>\n      <td>84.10</td>\n      <td>84.25</td>\n      <td>83.38</td>\n      <td>83.73</td>\n      <td>6858200</td>\n      <td>IBM</td>\n    </tr>\n  </tbody>\n</table>\n</div>"
     },
     "execution_count": 58,
     "metadata": {},
     "output_type": "execute_result"
    }
   ],
   "source": [
    "data_path = current_path + '/tmp/pycharm_project_317/LSTM/'\n",
    "dataset = pd.read_csv(data_path+'dataset.csv', index_col='Date', parse_dates=['Date'])\n",
    "dataset.head()"
   ],
   "metadata": {
    "collapsed": false,
    "pycharm": {
     "name": "#%%\n"
    }
   }
  },
  {
   "cell_type": "code",
   "execution_count": 59,
   "outputs": [
    {
     "data": {
      "text/plain": "(3020, 6)"
     },
     "execution_count": 59,
     "metadata": {},
     "output_type": "execute_result"
    }
   ],
   "source": [
    "dataset.shape"
   ],
   "metadata": {
    "collapsed": false,
    "pycharm": {
     "name": "#%%\n"
    }
   }
  },
  {
   "cell_type": "code",
   "execution_count": 60,
   "outputs": [],
   "source": [
    "# 检查数据是否有缺失值\n",
    "train_set = dataset[:'2016'].iloc[:, 1:2].values # 训练集，获取到第一列的数据\n",
    "test_set = dataset['2017':].iloc[:, 1:2].values # 测试集，获取到第一列的数据"
   ],
   "metadata": {
    "collapsed": false,
    "pycharm": {
     "name": "#%%\n"
    }
   }
  },
  {
   "cell_type": "code",
   "execution_count": 61,
   "outputs": [
    {
     "data": {
      "text/plain": "(2769, 1)"
     },
     "execution_count": 61,
     "metadata": {},
     "output_type": "execute_result"
    }
   ],
   "source": [
    "train_set.shape"
   ],
   "metadata": {
    "collapsed": false,
    "pycharm": {
     "name": "#%%\n"
    }
   }
  },
  {
   "cell_type": "code",
   "execution_count": 62,
   "outputs": [
    {
     "data": {
      "text/plain": "(251, 1)"
     },
     "execution_count": 62,
     "metadata": {},
     "output_type": "execute_result"
    }
   ],
   "source": [
    "test_set.shape"
   ],
   "metadata": {
    "collapsed": false,
    "pycharm": {
     "name": "#%%\n"
    }
   }
  },
  {
   "cell_type": "code",
   "execution_count": 62,
   "outputs": [],
   "source": [],
   "metadata": {
    "collapsed": false,
    "pycharm": {
     "name": "#%%\n"
    }
   }
  },
  {
   "cell_type": "markdown",
   "source": [
    "### 定义显示函数"
   ],
   "metadata": {
    "collapsed": false
   }
  },
  {
   "cell_type": "code",
   "execution_count": 63,
   "outputs": [],
   "source": [
    "def plot_predictions(test_result, predict_result):\n",
    "    \"\"\"\n",
    "    :param test_result: 真实值\n",
    "    :param predict_result: 预测值\n",
    "    :return: 无\n",
    "    \"\"\"\n",
    "    plt.plot(test_result, color='red', label='IBM True Stock Price')\n",
    "    plt.plot(predict_result, color='blue', label='IBM predict Stock Price')\n",
    "    plt.title('IBM Stock Price')\n",
    "    plt.xlabel(\"Time\")\n",
    "    plt.ylabel(\"Stock Price\")\n",
    "    plt.legend() # 给图加上图例\n",
    "    plt.show()"
   ],
   "metadata": {
    "collapsed": false,
    "pycharm": {
     "name": "#%%\n"
    }
   }
  },
  {
   "cell_type": "code",
   "execution_count": 64,
   "outputs": [
    {
     "data": {
      "text/plain": "<Figure size 1152x288 with 1 Axes>",
      "image/png": "[encoded data removed]"
     },
     "metadata": {
      "needs_background": "light"
     },
     "output_type": "display_data"
    }
   ],
   "source": [
    "# md\n",
    "### 第四步：绘制训练集合测试集的数据\n",
    "dataset['High']['2016'].plot(figsize=(16, 4), legend=True)\n",
    "dataset['High']['2017'].plot(figsize=(16, 4), legend=True)\n",
    "plt.legend(['Train set(before 2016)', 'Test set(after 2017)'])\n",
    "plt.show()"
   ],
   "metadata": {
    "collapsed": false,
    "pycharm": {
     "name": "#%%\n"
    }
   }
  },
  {
   "cell_type": "code",
   "execution_count": 65,
   "outputs": [],
   "source": [
    "# 正则化：将每一维的特征映射到指定的区间:[0,1]\n",
    "sc = MinMaxScaler(feature_range=[0, 1])\n",
    "train_set_scaled = sc.fit_transform(train_set)"
   ],
   "metadata": {
    "collapsed": false,
    "pycharm": {
     "name": "#%%\n"
    }
   }
  },
  {
   "cell_type": "code",
   "execution_count": 66,
   "outputs": [],
   "source": [
    "# 创建序列数据集（训练集和测试集）\n",
    "# 60个时间为一个样本，1个输出\n",
    "x_train = []\n",
    "y_train = []\n",
    "for i in range(60, 2769): # 训练集有2769条数据\n",
    "    x_train.append(train_set_scaled[i-60:i, 0])\n",
    "    y_train.append(train_set_scaled[i, 0])\n",
    "\n",
    "x_train, y_train = np.array(x_train), np.array(y_train) # numpy数据类型转换"
   ],
   "metadata": {
    "collapsed": false,
    "pycharm": {
     "name": "#%%\n"
    }
   }
  },
  {
   "cell_type": "code",
   "execution_count": 67,
   "outputs": [
    {
     "data": {
      "text/plain": "(2709, 60)"
     },
     "execution_count": 67,
     "metadata": {},
     "output_type": "execute_result"
    }
   ],
   "source": [
    "x_train.shape"
   ],
   "metadata": {
    "collapsed": false,
    "pycharm": {
     "name": "#%%\n"
    }
   }
  },
  {
   "cell_type": "code",
   "execution_count": 68,
   "outputs": [
    {
     "name": "stdout",
     "output_type": "stream",
     "text": [
      "[0.06065089 0.06029868 0.06311637 0.0781206  0.07262609 0.07171034\n",
      " 0.07657087 0.07058326 0.0669907  0.06494787 0.075796   0.07361229\n",
      " 0.06417301 0.05621302 0.05783319 0.05409975 0.05431107 0.05515638\n",
      " 0.05543815 0.05677656 0.05846717 0.05388842 0.04811214 0.04233587\n",
      " 0.04402649 0.0490279  0.04832347 0.05297267 0.05614258 0.05290223\n",
      " 0.05325444 0.04909834 0.04994365 0.04797126 0.05431107 0.05212736\n",
      " 0.04726684 0.04895745 0.04656241 0.04839391 0.04416737 0.0485348\n",
      " 0.04719639 0.04825303 0.05395886 0.05663567 0.05853762 0.05959425\n",
      " 0.06375035 0.06917442 0.06889265 0.06670893 0.06910397 0.07783883\n",
      " 0.07565511 0.07276698 0.06889265 0.0656523  0.06656805 0.06769513]\n"
     ]
    }
   ],
   "source": [
    "print(x_train[0])"
   ],
   "metadata": {
    "collapsed": false,
    "pycharm": {
     "name": "#%%\n"
    }
   }
  },
  {
   "cell_type": "code",
   "execution_count": 69,
   "outputs": [],
   "source": [
    "# LSTM的输入：(samples, sequence_length, features)\n",
    "# reshape: 训练集(2709,60)  ---> (2709, 60, 1)\n",
    "x_train = np.reshape(x_train, (x_train.shape[0], x_train.shape[1], 1))"
   ],
   "metadata": {
    "collapsed": false,
    "pycharm": {
     "name": "#%%\n"
    }
   }
  },
  {
   "cell_type": "code",
   "execution_count": 70,
   "outputs": [
    {
     "data": {
      "text/plain": "(2709, 60, 1)"
     },
     "execution_count": 70,
     "metadata": {},
     "output_type": "execute_result"
    }
   ],
   "source": [
    "x_train.shape"
   ],
   "metadata": {
    "collapsed": false,
    "pycharm": {
     "name": "#%%\n"
    }
   }
  },
  {
   "cell_type": "code",
   "execution_count": null,
   "outputs": [],
   "source": [],
   "metadata": {
    "collapsed": false,
    "pycharm": {
     "name": "#%%\n"
    }
   }
  },
  {
   "cell_type": "markdown",
   "source": [
    "### 搭建LSTM模型，进行训练和预测"
   ],
   "metadata": {
    "collapsed": false
   }
  },
  {
   "cell_type": "code",
   "execution_count": 75,
   "outputs": [],
   "source": [
    "\n",
    "\n",
    "from keras.layers import LSTM, Dropout, Dense\n",
    "from keras.models import Sequential\n",
    "\n",
    "model = Sequential()\n",
    "#LSTM 第一层\n",
    "model.add(LSTM(128, return_sequences=True, input_shape=(x_train.shape[1], 1)))\n",
    "model.add(Dropout(0.2))\n",
    "\n",
    "#LSTM 第二层\n",
    "model.add(LSTM(128, return_sequences=True))\n",
    "model.add(Dropout(0.2))\n",
    "\n",
    "# LSTM 第三层\n",
    "model.add(LSTM(128))\n",
    "model.add(Dropout(0.2))\n",
    "\n",
    "# Dense层\n",
    "model.add(Dense(units=1))"
   ],
   "metadata": {
    "collapsed": false,
    "pycharm": {
     "name": "#%%\n"
    }
   }
  },
  {
   "cell_type": "code",
   "execution_count": 80,
   "outputs": [
    {
     "name": "stdout",
     "output_type": "stream",
     "text": [
      "Epoch 1/20\n",
      "85/85 [==============================] - 22s 189ms/step - loss: 0.0275\n",
      "Epoch 2/20\n",
      "85/85 [==============================] - 16s 184ms/step - loss: 0.0100\n",
      "Epoch 3/20\n",
      "85/85 [==============================] - 16s 188ms/step - loss: 0.0073\n",
      "Epoch 4/20\n",
      "85/85 [==============================] - 17s 195ms/step - loss: 0.0061\n",
      "Epoch 5/20\n",
      "85/85 [==============================] - 14s 170ms/step - loss: 0.0049\n",
      "Epoch 6/20\n",
      "85/85 [==============================] - 14s 160ms/step - loss: 0.0042\n",
      "Epoch 7/20\n",
      "85/85 [==============================] - 14s 169ms/step - loss: 0.0042\n",
      "Epoch 8/20\n",
      "85/85 [==============================] - 15s 175ms/step - loss: 0.0035\n",
      "Epoch 9/20\n",
      "85/85 [==============================] - 15s 177ms/step - loss: 0.0034\n",
      "Epoch 10/20\n",
      "85/85 [==============================] - 16s 191ms/step - loss: 0.0031\n",
      "Epoch 11/20\n",
      "85/85 [==============================] - 16s 193ms/step - loss: 0.0026\n",
      "Epoch 12/20\n",
      "85/85 [==============================] - 16s 191ms/step - loss: 0.0025\n",
      "Epoch 13/20\n",
      "85/85 [==============================] - 16s 191ms/step - loss: 0.0024\n",
      "Epoch 14/20\n",
      "85/85 [==============================] - 16s 187ms/step - loss: 0.0024\n",
      "Epoch 15/20\n",
      "85/85 [==============================] - 16s 187ms/step - loss: 0.0022\n",
      "Epoch 16/20\n",
      "85/85 [==============================] - 15s 178ms/step - loss: 0.0021\n",
      "Epoch 17/20\n",
      "85/85 [==============================] - 14s 166ms/step - loss: 0.0021\n",
      "Epoch 18/20\n",
      "85/85 [==============================] - 15s 174ms/step - loss: 0.0021\n",
      "Epoch 19/20\n",
      "85/85 [==============================] - 16s 188ms/step - loss: 0.0020\n",
      "Epoch 20/20\n",
      "85/85 [==============================] - 15s 182ms/step - loss: 0.0018\n"
     ]
    },
    {
     "data": {
      "text/plain": "<keras.callbacks.History at 0x7fa66c60dc90>"
     },
     "execution_count": 80,
     "metadata": {},
     "output_type": "execute_result"
    }
   ],
   "source": [
    "# 模型编译\n",
    "model.compile(optimizer='rmsprop', loss='mse')\n",
    "\n",
    "# 模型训练\n",
    "model.fit(x_train, y_train, epochs=20, batch_size=32)"
   ],
   "metadata": {
    "collapsed": false,
    "pycharm": {
     "name": "#%%\n"
    }
   }
  },
  {
   "cell_type": "code",
   "execution_count": null,
   "outputs": [],
   "source": [],
   "metadata": {
    "collapsed": false,
    "pycharm": {
     "name": "#%%\n"
    }
   }
  },
  {
   "cell_type": "markdown",
   "source": [
    "### 构建数据集，进行预测"
   ],
   "metadata": {
    "collapsed": false
   }
  },
  {
   "cell_type": "code",
   "execution_count": 83,
   "outputs": [],
   "source": [
    "dataset_total = pd.concat((dataset['High'][:'2016'], dataset['High']['2017':]), axis=0)"
   ],
   "metadata": {
    "collapsed": false,
    "pycharm": {
     "name": "#%%\n"
    }
   }
  },
  {
   "cell_type": "code",
   "execution_count": 84,
   "outputs": [
    {
     "data": {
      "text/plain": "(3020,)"
     },
     "execution_count": 84,
     "metadata": {},
     "output_type": "execute_result"
    }
   ],
   "source": [
    "dataset_total.shape"
   ],
   "metadata": {
    "collapsed": false,
    "pycharm": {
     "name": "#%%\n"
    }
   }
  },
  {
   "cell_type": "code",
   "execution_count": 85,
   "outputs": [
    {
     "name": "stdout",
     "output_type": "stream",
     "text": [
      "Date\n",
      "2006-01-03     82.55\n",
      "2006-01-04     82.50\n",
      "2006-01-05     82.90\n",
      "2006-01-06     85.03\n",
      "2006-01-09     84.25\n",
      "               ...  \n",
      "2017-12-22    153.00\n",
      "2017-12-26    153.86\n",
      "2017-12-27    153.18\n",
      "2017-12-28    154.12\n",
      "2017-12-29    154.72\n",
      "Name: High, Length: 3020, dtype: float64\n"
     ]
    }
   ],
   "source": [
    "print(dataset_total)"
   ],
   "metadata": {
    "collapsed": false,
    "pycharm": {
     "name": "#%%\n"
    }
   }
  },
  {
   "cell_type": "code",
   "execution_count": 86,
   "outputs": [],
   "source": [
    "inputs = dataset_total[len(train_set):].values"
   ],
   "metadata": {
    "collapsed": false,
    "pycharm": {
     "name": "#%%\n"
    }
   }
  },
  {
   "cell_type": "code",
   "execution_count": 87,
   "outputs": [],
   "source": [
    "inputs = inputs.reshape(-1, 1)"
   ],
   "metadata": {
    "collapsed": false,
    "pycharm": {
     "name": "#%%\n"
    }
   }
  },
  {
   "cell_type": "code",
   "execution_count": 88,
   "outputs": [
    {
     "data": {
      "text/plain": "(251, 1)"
     },
     "execution_count": 88,
     "metadata": {},
     "output_type": "execute_result"
    }
   ],
   "source": [
    "inputs.shape"
   ],
   "metadata": {
    "collapsed": false,
    "pycharm": {
     "name": "#%%\n"
    }
   }
  },
  {
   "cell_type": "code",
   "execution_count": 89,
   "outputs": [],
   "source": [
    "inputs_scaled = sc.fit_transform(inputs)"
   ],
   "metadata": {
    "collapsed": false,
    "pycharm": {
     "name": "#%%\n"
    }
   }
  },
  {
   "cell_type": "code",
   "execution_count": null,
   "outputs": [],
   "source": [],
   "metadata": {
    "collapsed": false,
    "pycharm": {
     "name": "#%%\n"
    }
   }
  },
  {
   "cell_type": "markdown",
   "source": [
    "### 构建测试集x_test,jinxinggujiayuce"
   ],
   "metadata": {
    "collapsed": false
   }
  },
  {
   "cell_type": "code",
   "execution_count": 92,
   "outputs": [],
   "source": [
    "dataset_total = pd.concat((dataset['High'][:'2016'], dataset['High']['2017':]), axis=0)\n",
    "#获取输入的数据\n",
    "inputs = dataset_total[len(dataset_total) - len(test_set) - 60:].values"
   ],
   "metadata": {
    "collapsed": false,
    "pycharm": {
     "name": "#%%\n"
    }
   }
  },
  {
   "cell_type": "code",
   "execution_count": 94,
   "outputs": [
    {
     "name": "stdout",
     "output_type": "stream",
     "text": [
      "[157.43 157.7  158.49 156.95 154.97 154.22 155.53 155.89 151.   152.45\n",
      " 152.9  151.15 151.52 151.16 152.94 154.06 154.44 154.33 153.91 153.34\n",
      " 153.74 153.64 156.11 155.93 155.56 161.16 161.34 161.86 159.15 159.55\n",
      " 159.93 160.72 163.   163.   162.38 163.19 164.66 164.41 163.8  162.2\n",
      " 160.29 161.15 160.79 165.18 166.   166.72 166.79 169.95 169.89 169.85\n",
      " 169.11 167.26 168.25 167.94 168.23 167.49 167.98 167.74 166.99 166.7\n",
      " 167.87 169.87 169.39 169.92 169.8  168.09 167.76 168.01 168.48 168.18\n",
      " 168.59 167.45 170.64 171.25 176.   179.25 178.88 179.2  177.07 175.58\n",
      " 175.7  174.97 176.34 175.98 178.62 177.5  177.8  178.87 179.9  180.13\n",
      " 181.92 182.79 181.57 180.79 181.34 182.5  181.49 181.25 180.63 182.55\n",
      " 181.88 181.32 180.99 181.29 180.95 179.25 179.49 178.06 176.82 176.28\n",
      " 179.   176.79 176.18 176.23 175.06 175.67 175.5  174.16 175.   174.49\n",
      " 174.59 174.95 174.87 174.96 176.33 173.47 172.93 172.56 171.23 171.2\n",
      " 171.36 171.3  171.69 162.64 162.4  162.11 161.57 162.04 161.1  160.48\n",
      " 160.59 160.42 159.49 159.45 159.14 155.78 153.47 153.1  152.37 151.15\n",
      " 151.26 151.83 153.99 154.14 151.33 152.46 152.84 153.68 152.76 153.73\n",
      " 153.   152.67 152.8  152.87 153.2  152.93 152.89 154.2  152.82 154.26\n",
      " 157.2  155.48 154.94 154.69 155.42 155.86 155.39 155.79 154.99 154.68\n",
      " 155.75 155.34 155.55 155.74 154.5  156.02 155.89 153.83 153.49 153.89\n",
      " 153.65 154.24 154.19 154.62 153.88 154.29 150.25 148.83 147.87 147.04\n",
      " 147.49 146.46 145.4  145.04 144.93 145.67 145.29 145.34 145.39 145.09\n",
      " 142.76 142.03 142.42 142.59 142.76 143.34 142.91 142.89 141.15 140.42\n",
      " 141.15 143.05 143.68 144.19 144.56 143.42 143.28 143.66 144.5  144.36\n",
      " 144.47 144.64 143.15 145.13 146.37 146.29 146.38 145.17 145.48 144.98\n",
      " 145.88 145.89 145.59 146.03 147.42 146.9  145.86 145.69 146.86 147.2\n",
      " 147.02 147.54 146.85 147.79 148.95 148.47 147.89 147.85 147.67 147.12\n",
      " 161.23 160.96 162.48 162.51 159.7  156.37 155.12 154.63 154.59 154.93\n",
      " 154.9  154.49 153.47 151.82 151.51 151.79 151.8  150.89 149.   148.97\n",
      " 148.7  149.65 150.15 151.95 152.45 152.39 152.2  152.49 152.93 153.61\n",
      " 154.41 155.02 156.8  156.74 156.22 154.45 155.03 155.89 157.85 156.73\n",
      " 155.11 153.8  154.18 154.17 153.89 153.46 153.   153.86 153.18 154.12\n",
      " 154.72]\n"
     ]
    }
   ],
   "source": [
    "print(inputs)"
   ],
   "metadata": {
    "collapsed": false,
    "pycharm": {
     "name": "#%%\n"
    }
   }
  },
  {
   "cell_type": "code",
   "execution_count": 95,
   "outputs": [],
   "source": [
    "# 归一化\n",
    "inputs = inputs.reshape(-1,1)\n",
    "inputs = sc.transform(inputs)"
   ],
   "metadata": {
    "collapsed": false,
    "pycharm": {
     "name": "#%%\n"
    }
   }
  },
  {
   "cell_type": "code",
   "execution_count": 96,
   "outputs": [
    {
     "data": {
      "text/plain": "(311, 1)"
     },
     "execution_count": 96,
     "metadata": {},
     "output_type": "execute_result"
    }
   ],
   "source": [
    "inputs.shape"
   ],
   "metadata": {
    "collapsed": false,
    "pycharm": {
     "name": "#%%\n"
    }
   }
  },
  {
   "cell_type": "code",
   "execution_count": 98,
   "outputs": [
    {
     "data": {
      "text/plain": "(251, 60)"
     },
     "execution_count": 98,
     "metadata": {},
     "output_type": "execute_result"
    }
   ],
   "source": [
    "# 准备测试集x_test,进行估价预测\n",
    "x_test = []\n",
    "for i in range(60, 311):\n",
    "    x_test.append(inputs[i-60:i, 0])\n",
    "\n",
    "x_test = np.array(x_test) #\n",
    "x_test.shape"
   ],
   "metadata": {
    "collapsed": false,
    "pycharm": {
     "name": "#%%\n"
    }
   }
  },
  {
   "cell_type": "code",
   "execution_count": 99,
   "outputs": [
    {
     "data": {
      "text/plain": "(251, 60, 1)"
     },
     "execution_count": 99,
     "metadata": {},
     "output_type": "execute_result"
    }
   ],
   "source": [
    "x_test = np.reshape(x_test, (x_test.shape[0], x_test.shape[1], 1))\n",
    "x_test.shape"
   ],
   "metadata": {
    "collapsed": false,
    "pycharm": {
     "name": "#%%\n"
    }
   }
  },
  {
   "cell_type": "code",
   "execution_count": 100,
   "outputs": [],
   "source": [
    "predict_test = model.predict(x_test) # 预测"
   ],
   "metadata": {
    "collapsed": false,
    "pycharm": {
     "name": "#%%\n"
    }
   }
  },
  {
   "cell_type": "code",
   "execution_count": 101,
   "outputs": [
    {
     "data": {
      "text/plain": "(251, 1)"
     },
     "execution_count": 101,
     "metadata": {},
     "output_type": "execute_result"
    }
   ],
   "source": [
    "predict_test.shape"
   ],
   "metadata": {
    "collapsed": false,
    "pycharm": {
     "name": "#%%\n"
    }
   }
  },
  {
   "cell_type": "code",
   "execution_count": 102,
   "outputs": [],
   "source": [
    "predict_stock_price = sc.inverse_transform(predict_test)"
   ],
   "metadata": {
    "collapsed": false,
    "pycharm": {
     "name": "#%%\n"
    }
   }
  },
  {
   "cell_type": "code",
   "execution_count": 120,
   "outputs": [
    {
     "name": "stdout",
     "output_type": "stream",
     "text": [
      "[[166.9859 ]\n",
      " [167.14085]\n",
      " [168.21689]\n",
      " [168.98186]\n",
      " [169.48634]\n",
      " [169.621  ]\n",
      " [168.944  ]\n",
      " [168.1461 ]\n",
      " [167.7549 ]\n",
      " [167.89787]\n",
      " [168.08301]\n",
      " [168.34735]\n",
      " [168.08536]\n",
      " [168.91603]\n",
      " [170.01027]\n",
      " [172.48816]\n",
      " [175.4715 ]\n",
      " [177.12607]\n",
      " [177.81   ]\n",
      " [177.17574]\n",
      " [175.95537]\n",
      " [175.13577]\n",
      " [174.62148]\n",
      " [174.98195]\n",
      " [175.36453]\n",
      " [176.51753]\n",
      " [176.97571]\n",
      " [177.14745]\n",
      " [177.47806]\n",
      " [178.07004]\n",
      " [178.58408]\n",
      " [179.47745]\n",
      " [180.37329]\n",
      " [180.51253]\n",
      " [180.15814]\n",
      " [179.98402]\n",
      " [180.3307 ]\n",
      " [180.38495]\n",
      " [180.30255]\n",
      " [180.00089]\n",
      " [180.39737]\n",
      " [180.58743]\n",
      " [180.5049 ]\n",
      " [180.25409]\n",
      " [180.15347]\n",
      " [180.02925]\n",
      " [179.41928]\n",
      " [179.00902]\n",
      " [178.33861]\n",
      " [177.4853 ]\n",
      " [176.73155]\n",
      " [177.22856]\n",
      " [177.13348]\n",
      " [176.71626]\n",
      " [176.31627]\n",
      " [175.67075]\n",
      " [175.42119]\n",
      " [175.32504]\n",
      " [174.86026]\n",
      " [174.74333]\n",
      " [174.57965]\n",
      " [174.50497]\n",
      " [174.59198]\n",
      " [174.65372]\n",
      " [174.70206]\n",
      " [175.18965]\n",
      " [174.60567]\n",
      " [173.74785]\n",
      " [172.9852 ]\n",
      " [172.12341]\n",
      " [171.58264]\n",
      " [171.42607]\n",
      " [171.43356]\n",
      " [171.60344]\n",
      " [168.49733]\n",
      " [165.24326]\n",
      " [163.07108]\n",
      " [162.12167]\n",
      " [162.21725]\n",
      " [162.22357]\n",
      " [161.80016]\n",
      " [161.30421]\n",
      " [160.85124]\n",
      " [160.19337]\n",
      " [159.66731]\n",
      " [159.28519]\n",
      " [157.78978]\n",
      " [155.47331]\n",
      " [153.61243]\n",
      " [152.52762]\n",
      " [151.76779]\n",
      " [151.45427]\n",
      " [151.66252]\n",
      " [152.83093]\n",
      " [153.90222]\n",
      " [153.17935]\n",
      " [152.3096 ]\n",
      " [151.99413]\n",
      " [152.45728]\n",
      " [152.69507]\n",
      " [153.06833]\n",
      " [153.0632 ]\n",
      " [152.72647]\n",
      " [152.44698]\n",
      " [152.36995]\n",
      " [152.56073]\n",
      " [152.67535]\n",
      " [152.6634 ]\n",
      " [153.1315 ]\n",
      " [153.06561]\n",
      " [153.31651]\n",
      " [154.85698]\n",
      " [155.58984]\n",
      " [155.32254]\n",
      " [154.64005]\n",
      " [154.41826]\n",
      " [154.74771]\n",
      " [155.0007 ]\n",
      " [155.25015]\n",
      " [155.07536]\n",
      " [154.6506 ]\n",
      " [154.75084]\n",
      " [154.91365]\n",
      " [155.09015]\n",
      " [155.26793]\n",
      " [154.8637 ]\n",
      " [154.9709 ]\n",
      " [155.26154]\n",
      " [154.65121]\n",
      " [153.72398]\n",
      " [153.26312]\n",
      " [153.16902]\n",
      " [153.51106]\n",
      " [153.86568]\n",
      " [154.20296]\n",
      " [154.06369]\n",
      " [153.90619]\n",
      " [152.19632]\n",
      " [149.86626]\n",
      " [147.94318]\n",
      " [146.8229 ]\n",
      " [146.81366]\n",
      " [146.91466]\n",
      " [146.4681 ]\n",
      " [145.73497]\n",
      " [145.13562]\n",
      " [145.17418]\n",
      " [145.3445 ]\n",
      " [145.44463]\n",
      " [145.457  ]\n",
      " [145.2832 ]\n",
      " [144.11781]\n",
      " [142.6378 ]\n",
      " [141.92805]\n",
      " [142.11523]\n",
      " [142.7289 ]\n",
      " [143.4516 ]\n",
      " [143.66455]\n",
      " [143.44356]\n",
      " [142.37456]\n",
      " [141.02269]\n",
      " [140.52406]\n",
      " [141.6094 ]\n",
      " [143.26807]\n",
      " [144.49908]\n",
      " [145.00653]\n",
      " [144.4128 ]\n",
      " [143.4446 ]\n",
      " [142.95363]\n",
      " [143.35776]\n",
      " [143.99121]\n",
      " [144.43706]\n",
      " [144.64157]\n",
      " [144.01595]\n",
      " [144.05386]\n",
      " [145.04982]\n",
      " [145.99014]\n",
      " [146.4064 ]\n",
      " [145.853  ]\n",
      " [145.19135]\n",
      " [144.65468]\n",
      " [144.83054]\n",
      " [145.33638]\n",
      " [145.61137]\n",
      " [145.79964]\n",
      " [146.45694]\n",
      " [146.84076]\n",
      " [146.41165]\n",
      " [145.68875]\n",
      " [145.69836]\n",
      " [146.28517]\n",
      " [146.77751]\n",
      " [147.16957]\n",
      " [147.05469]\n",
      " [147.11334]\n",
      " [147.7647 ]\n",
      " [148.21031]\n",
      " [148.05226]\n",
      " [147.65414]\n",
      " [147.2903 ]\n",
      " [146.91081]\n",
      " [152.74384]\n",
      " [158.6453 ]\n",
      " [161.899  ]\n",
      " [162.64445]\n",
      " [161.00255]\n",
      " [157.80383]\n",
      " [154.86185]\n",
      " [153.31258]\n",
      " [153.25162]\n",
      " [154.07495]\n",
      " [154.85124]\n",
      " [154.99799]\n",
      " [154.3104 ]\n",
      " [152.82945]\n",
      " [151.47769]\n",
      " [150.94273]\n",
      " [151.0701 ]\n",
      " [151.04796]\n",
      " [150.13577]\n",
      " [149.15327]\n",
      " [148.51558]\n",
      " [148.73288]\n",
      " [149.4703 ]\n",
      " [150.79944]\n",
      " [151.96277]\n",
      " [152.4173 ]\n",
      " [152.22658]\n",
      " [151.9504 ]\n",
      " [151.9831 ]\n",
      " [152.46254]\n",
      " [153.28142]\n",
      " [154.13756]\n",
      " [155.34708]\n",
      " [156.15659]\n",
      " [156.19168]\n",
      " [155.1627 ]\n",
      " [154.35883]\n",
      " [154.46016]\n",
      " [155.78464]\n",
      " [156.59914]\n",
      " [156.10234]\n",
      " [154.70067]\n",
      " [153.68121]\n",
      " [153.36214]\n",
      " [153.40958]\n",
      " [153.40028]\n",
      " [153.15019]\n",
      " [153.23085]\n",
      " [153.16034]\n",
      " [153.39032]]\n"
     ]
    }
   ],
   "source": [
    "print(predict_stock_price)"
   ],
   "metadata": {
    "collapsed": false,
    "pycharm": {
     "name": "#%%\n"
    }
   }
  },
  {
   "cell_type": "code",
   "execution_count": 121,
   "outputs": [
    {
     "data": {
      "text/plain": "<Figure size 432x288 with 1 Axes>",
      "image/png": "[encoded data removed]"
     },
     "metadata": {
      "needs_background": "light"
     },
     "output_type": "display_data"
    }
   ],
   "source": [
    "# 绘制测试集结果和预测结果\n",
    "plot_predictions(test_set, predict_stock_price)"
   ],
   "metadata": {
    "collapsed": false,
    "pycharm": {
     "name": "#%%\n"
    }
   }
  },
  {
   "cell_type": "code",
   "execution_count": null,
   "outputs": [],
   "source": [],
   "metadata": {
    "collapsed": false,
    "pycharm": {
     "name": "#%%\n"
    }
   }
  },
  {
   "cell_type": "markdown",
   "source": [
    "### 基于GRU实现预测股价"
   ],
   "metadata": {
    "collapsed": false
   }
  },
  {
   "cell_type": "code",
   "execution_count": 122,
   "outputs": [],
   "source": [
    "model_gru = Sequential()"
   ],
   "metadata": {
    "collapsed": false,
    "pycharm": {
     "name": "#%%\n"
    }
   }
  },
  {
   "cell_type": "code",
   "execution_count": 123,
   "outputs": [],
   "source": [
    "from keras.layers import GRU\n",
    "\n",
    "model_gru.add(GRU(50, return_sequences=True, input_shape=(x_test.shape[1], 1), activation='tanh'))"
   ],
   "metadata": {
    "collapsed": false,
    "pycharm": {
     "name": "#%%\n"
    }
   }
  },
  {
   "cell_type": "code",
   "execution_count": 124,
   "outputs": [],
   "source": [
    "model_gru.add(Dropout(0.2))"
   ],
   "metadata": {
    "collapsed": false,
    "pycharm": {
     "name": "#%%\n"
    }
   }
  },
  {
   "cell_type": "code",
   "execution_count": 125,
   "outputs": [],
   "source": [
    "model_gru.add(GRU(50, activation='tanh'))"
   ],
   "metadata": {
    "collapsed": false,
    "pycharm": {
     "name": "#%%\n"
    }
   }
  },
  {
   "cell_type": "code",
   "execution_count": 126,
   "outputs": [],
   "source": [
    "model_gru.add(Dropout(0.2))"
   ],
   "metadata": {
    "collapsed": false,
    "pycharm": {
     "name": "#%%\n"
    }
   }
  },
  {
   "cell_type": "code",
   "execution_count": 127,
   "outputs": [],
   "source": [
    "model_gru.add(Dense(1))"
   ],
   "metadata": {
    "collapsed": false,
    "pycharm": {
     "name": "#%%\n"
    }
   }
  },
  {
   "cell_type": "code",
   "execution_count": 130,
   "outputs": [
    {
     "name": "stderr",
     "output_type": "stream",
     "text": [
      "/home/zhouyuhua/anaconda3/envs/pytorch_env/lib/python3.7/site-packages/keras/optimizer_v2/gradient_descent.py:102: UserWarning: The `lr` argument is deprecated, use `learning_rate` instead.\n",
      "  super(SGD, self).__init__(name, **kwargs)\n"
     ]
    }
   ],
   "source": [
    "from tensorflow.keras.optimizers import SGD\n",
    "\n",
    "# 模型编译\n",
    "model_gru.compile(optimizer=SGD(lr=0.01, decay=1e-7, momentum=0.9), loss='mse')"
   ],
   "metadata": {
    "collapsed": false,
    "pycharm": {
     "name": "#%%\n"
    }
   }
  },
  {
   "cell_type": "code",
   "execution_count": 131,
   "outputs": [
    {
     "name": "stdout",
     "output_type": "stream",
     "text": [
      "Epoch 1/20\n",
      "85/85 [==============================] - 10s 74ms/step - loss: 0.0300\n",
      "Epoch 2/20\n",
      "85/85 [==============================] - 6s 73ms/step - loss: 0.0034\n",
      "Epoch 3/20\n",
      "85/85 [==============================] - 6s 72ms/step - loss: 0.0030\n",
      "Epoch 4/20\n",
      "85/85 [==============================] - 6s 72ms/step - loss: 0.0023\n",
      "Epoch 5/20\n",
      "85/85 [==============================] - 6s 72ms/step - loss: 0.0022\n",
      "Epoch 6/20\n",
      "85/85 [==============================] - 6s 72ms/step - loss: 0.0019\n",
      "Epoch 7/20\n",
      "85/85 [==============================] - 6s 72ms/step - loss: 0.0017\n",
      "Epoch 8/20\n",
      "85/85 [==============================] - 6s 71ms/step - loss: 0.0016\n",
      "Epoch 9/20\n",
      "85/85 [==============================] - 6s 72ms/step - loss: 0.0017\n",
      "Epoch 10/20\n",
      "85/85 [==============================] - 6s 72ms/step - loss: 0.0016\n",
      "Epoch 11/20\n",
      "85/85 [==============================] - 6s 72ms/step - loss: 0.0015\n",
      "Epoch 12/20\n",
      "85/85 [==============================] - 6s 71ms/step - loss: 0.0015\n",
      "Epoch 13/20\n",
      "85/85 [==============================] - 6s 72ms/step - loss: 0.0015\n",
      "Epoch 14/20\n",
      "85/85 [==============================] - 6s 72ms/step - loss: 0.0015\n",
      "Epoch 15/20\n",
      "85/85 [==============================] - 6s 71ms/step - loss: 0.0013\n",
      "Epoch 16/20\n",
      "85/85 [==============================] - 6s 72ms/step - loss: 0.0014\n",
      "Epoch 17/20\n",
      "85/85 [==============================] - 6s 71ms/step - loss: 0.0013\n",
      "Epoch 18/20\n",
      "85/85 [==============================] - 6s 70ms/step - loss: 0.0013\n",
      "Epoch 19/20\n",
      "85/85 [==============================] - 6s 72ms/step - loss: 0.0013\n",
      "Epoch 20/20\n",
      "85/85 [==============================] - 6s 72ms/step - loss: 0.0013\n"
     ]
    },
    {
     "data": {
      "text/plain": "<keras.callbacks.History at 0x7fa630119950>"
     },
     "execution_count": 131,
     "metadata": {},
     "output_type": "execute_result"
    }
   ],
   "source": [
    "model_gru.fit(x_train, y_train, epochs=20, batch_size=32)"
   ],
   "metadata": {
    "collapsed": false,
    "pycharm": {
     "name": "#%%\n"
    }
   }
  },
  {
   "cell_type": "code",
   "execution_count": 133,
   "outputs": [],
   "source": [
    "# 准备测试集X_test,进行股价预测\n",
    "X_test = []\n",
    "for i in range(60, 311):\n",
    "    X_test.append(inputs[i-60:i, 0])\n",
    "\n",
    "X_test = np.array(X_test) # numpy 类型转换\n",
    "\n",
    "X_test = np.reshape(X_test, (X_test.shape[0], X_test.shape[1], 1))"
   ],
   "metadata": {
    "collapsed": false,
    "pycharm": {
     "name": "#%%\n"
    }
   }
  },
  {
   "cell_type": "code",
   "execution_count": 134,
   "outputs": [],
   "source": [
    "GRU_predicted = model_gru.predict(X_test)"
   ],
   "metadata": {
    "collapsed": false,
    "pycharm": {
     "name": "#%%\n"
    }
   }
  },
  {
   "cell_type": "code",
   "execution_count": 135,
   "outputs": [],
   "source": [
    "GRU_predicted_stock_price = sc.inverse_transform(GRU_predicted)"
   ],
   "metadata": {
    "collapsed": false,
    "pycharm": {
     "name": "#%%\n"
    }
   }
  },
  {
   "cell_type": "code",
   "execution_count": 136,
   "outputs": [
    {
     "data": {
      "text/plain": "<Figure size 432x288 with 1 Axes>",
      "image/png": "[encoded data removed]"
     },
     "metadata": {
      "needs_background": "light"
     },
     "output_type": "display_data"
    }
   ],
   "source": [
    "# 可视化\n",
    "plot_predictions(test_set, GRU_predicted_stock_price)"
   ],
   "metadata": {
    "collapsed": false,
    "pycharm": {
     "name": "#%%\n"
    }
   }
  },
  {
   "cell_type": "code",
   "execution_count": null,
   "outputs": [],
   "source": [],
   "metadata": {
    "collapsed": false,
    "pycharm": {
     "name": "#%%\n"
    }
   }
  }
 ],
 "metadata": {
  "kernelspec": {
   "display_name": "Python 3",
   "language": "python",
   "name": "python3"
  },
  "language_info": {
   "codemirror_mode": {
    "name": "ipython",
    "version": 2
   },
   "file_extension": ".py",
   "mimetype": "text/x-python",
   "name": "python",
   "nbconvert_exporter": "python",
   "pygments_lexer": "ipython2",
   "version": "2.7.6"
  }
 },
 "nbformat": 4,
 "nbformat_minor": 0
}